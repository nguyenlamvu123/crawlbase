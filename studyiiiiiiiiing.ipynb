{
 "cells": [
  {
   "cell_type": "code",
   "execution_count": 1,
   "id": "e559b96b-ace1-42bb-af08-136d5185f1e8",
   "metadata": {},
   "outputs": [],
   "source": [
    "# !pip install -r requirements.txt\n",
    "import os, time\n",
    "from bs4 import BeautifulSoup\n",
    "from funct import firefox, chrooome, brow__ser, findelem, delete_cache, readfile, crawlfromhtml\n",
    "\n",
    "from addr import (\n",
    "    # em, pa, em_test, pa_test, lo, get_tok, to, fanpage, comment, like, uidfile, contentfile, spam_done, get_in4, likl_ist,\n",
    "    ad, danhmuc_s, page, looplv1, looplv2, debug, classinprod_ten, classinprod_danhgia, classinprod_motadai,\n",
    "    loca_l, prename, classsanpham, classthongtin, classten, classdanhgiadaban, datasqe_danhgia, classdaban,\n",
    ")\n",
    "delcache: bool = False\n",
    "shopee_cookies = '[{\"name\": \"csrftoken\", \"value\": \"RvxBdTixvBfdTR3xfQwbcYippqz8jEbF\", \"domain\": \"shopee.ph\", \"path\": \"/\", \"expires\": -1, \"httpOnly\": false, \"secure\": false, \"sameSite\": \"Lax\"}, {\"name\": \"_gcl_au\", \"value\": \"1.1.1251411089.1692464842\", \"domain\": \".shopee.ph\", \"path\": \"/\", \"expires\": 1700240842, \"httpOnly\": false, \"secure\": false, \"sameSite\": \"Lax\"}, {\"name\": \"SPC_SI\", \"value\": \"sTLbZAAAAABwY1ZrR1NNU+WdNgAAAAAAdzlCYXIyVVQ=\", \"domain\": \".shopee.ph\", \"path\": \"/\", \"expires\": 1692551246.336331, \"httpOnly\": true, \"secure\": true, \"sameSite\": \"Lax\"}, {\"name\": \"_fbp\", \"value\": \"fb.1.1692464842990.689078803\", \"domain\": \".shopee.ph\", \"path\": \"/\", \"expires\": 1700240846, \"httpOnly\": false, \"secure\": false, \"sameSite\": \"Lax\"}, {\"name\": \"SPC_R_T_IV\", \"value\": \"NnVEbThnRjREMnNMZVpGVQ==\", \"domain\": \".shopee.ph\", \"path\": \"/\", \"expires\": 1727024846.336348, \"httpOnly\": false, \"secure\": true, \"sameSite\": \"Lax\"}, {\"name\": \"SPC_T_ID\", \"value\": \"fn/OKngQO3doGdfFGyo/6mzLiviELHkKEbWM9J+x/ezTl/baT96grQer6ILrYX9tj3Kqs71Jg+hCimaK/XauidJXrd6HdPd2Smbxbu/fEStjOJi5g9/ucMmbBwuyh5M6H3TOGdpUop/9Q/zdpNj6MyxZaODnNsT5XprfsQxjB5g=\", \"domain\": \".shopee.ph\", \"path\": \"/\", \"expires\": 1727024846.336355, \"httpOnly\": true, \"secure\": true, \"sameSite\": \"Lax\"}, {\"name\": \"SPC_T_IV\", \"value\": \"NnVEbThnRjREMnNMZVpGVQ==\", \"domain\": \".shopee.ph\", \"path\": \"/\", \"expires\": 1727024846.336362, \"httpOnly\": true, \"secure\": true, \"sameSite\": \"Lax\"}, {\"name\": \"SPC_F\", \"value\": \"jiOtuCSNUaap3U4BHHfzhDihWwFht32f\", \"domain\": \".shopee.ph\", \"path\": \"/\", \"expires\": 1727024843.162052, \"httpOnly\": false, \"secure\": true, \"sameSite\": \"Lax\"}, {\"name\": \"REC_T_ID\", \"value\": \"dc8a2570-3eb2-11ee-ac9b-2cea7fce6c95\", \"domain\": \".shopee.ph\", \"path\": \"/\", \"expires\": 1727024843.16206, \"httpOnly\": true, \"secure\": true, \"sameSite\": \"Lax\"}, {\"name\": \"SPC_R_T_ID\", \"value\": \"fn/OKngQO3doGdfFGyo/6mzLiviELHkKEbWM9J+x/ezTl/baT96grQer6ILrYX9tj3Kqs71Jg+hCimaK/XauidJXrd6HdPd2Smbxbu/fEStjOJi5g9/ucMmbBwuyh5M6H3TOGdpUop/9Q/zdpNj6MyxZaODnNsT5XprfsQxjB5g=\", \"domain\": \".shopee.ph\", \"path\": \"/\", \"expires\": 1727024846.33634, \"httpOnly\": false, \"secure\": true, \"sameSite\": \"Lax\"}, {\"name\": \"_QPWSDCXHZQA\", \"value\": \"4a585493-a7a0-4f0e-d696-687295d3a4c3\", \"domain\": \"shopee.ph\", \"path\": \"/\", \"expires\": 1692496379, \"httpOnly\": false, \"secure\": false, \"sameSite\": \"Lax\"}, {\"name\": \"IDE\", \"value\": \"AHWqTUm1b5ZflCqDTn6cpHDjyoeqH6iLfXcCOOm4YNaP8CHTsAZ7F_Daq4-zO-bsGIk\", \"domain\": \".doubleclick.net\", \"path\": \"/\", \"expires\": 1727024843.787698, \"httpOnly\": true, \"secure\": true, \"sameSite\": \"None\"}, {\"name\": \"AMP_TOKEN\", \"value\": \"%24NOT_FOUND\", \"domain\": \".shopee.ph\", \"path\": \"/\", \"expires\": 1692468444, \"httpOnly\": false, \"secure\": false, \"sameSite\": \"Lax\"}, {\"name\": \"_ga\", \"value\": \"GA1.2.833255521.1692464843\", \"domain\": \".shopee.ph\", \"path\": \"/\", \"expires\": 1727024844.498551, \"httpOnly\": false, \"secure\": false, \"sameSite\": \"Lax\"}, {\"name\": \"_gid\", \"value\": \"GA1.2.1347861977.1692464844\", \"domain\": \".shopee.ph\", \"path\": \"/\", \"expires\": 1692551244, \"httpOnly\": false, \"secure\": false, \"sameSite\": \"Lax\"}, {\"name\": \"_dc_gtm_UA-61918643-6\", \"value\": \"1\", \"domain\": \".shopee.ph\", \"path\": \"/\", \"expires\": 1692464904, \"httpOnly\": false, \"secure\": false, \"sameSite\": \"Lax\"}, {\"name\": \"shopee_webUnique_ccd\", \"value\": \"raj%2F3ukNopIWTrFjVLQeGA%3D%3D%7C1%2BjiV3ga9OlzuAELTZtedUY5BlP1ZNVH5ybZJx2D4KNA9dGTvtFakjnNZvR64zKNG6yBDfEXdabTE%2FRKow%3D%3D%7CsWIQ7u7pR4F3BD7E%7C08%7C3\", \"domain\": \"shopee.ph\", \"path\": \"/\", \"expires\": 1692496381, \"httpOnly\": false, \"secure\": false, \"sameSite\": \"Lax\"}, {\"name\": \"ds\", \"value\": \"065598fda3b7cca4e5e241e446a075e9\", \"domain\": \"shopee.ph\", \"path\": \"/\", \"expires\": 1692496381, \"httpOnly\": false, \"secure\": false, \"sameSite\": \"Lax\"}, {\"name\": \"SPC_EC\", \"value\": \"RTJYa2Q5WEV4UDNnN3VGWr68rFv1FRJEeVkpwAzlu09WhtwSxFE1cZlwpQYRhhR56REixPuKfekz6oioE4EaDK12bvALil+QZ5B0EfG42psIFWNDe1moiErTZndyu1502KUlh5+OQoUWCvm1XkVY+2Iy7Jk5qyPI2J655JeZwv0=\", \"domain\": \".shopee.ph\", \"path\": \"/\", \"expires\": 1727024846.336291, \"httpOnly\": true, \"secure\": true, \"sameSite\": \"Lax\"}, {\"name\": \"SPC_ST\", \"value\": \".ek1DVmo5aGJjaVBxcklYU5o4/3v/8ndPeV2/fwtzWYUh1kWOopWvn7SFoQXWuS37Rs+J+Ym7U8OwOG73JbiFRWyOOo1GhKBgwhUeeWfE+q9XPDZXACC33t7qphoBu5hyWvR/G+WkpSUbIkmGPzprCIvhw7Qwyt8UFxk/4bA+47QQQUiDcPfHIq/sJqmVMEqH3Al6nCTDeEh/JCDLALRvNQ==\", \"domain\": \".shopee.ph\", \"path\": \"/\", \"expires\": 1727024846.336324, \"httpOnly\": true, \"secure\": true, \"sameSite\": \"Lax\"}, {\"name\": \"SPC_CLIENTID\", \"value\": \"amlPdHVDU05VYWFwgvlavxoisbqjmacw\", \"domain\": \".shopee.ph\", \"path\": \"/\", \"expires\": 1727024846.336374, \"httpOnly\": false, \"secure\": false, \"sameSite\": \"Lax\"}, {\"name\": \"_ga_CB0044GVTM\", \"value\": \"GS1.1.1692464843.1.0.1692464846.57.0.0\", \"domain\": \".shopee.ph\", \"path\": \"/\", \"expires\": 1727024846.367333, \"httpOnly\": false, \"secure\": false, \"sameSite\": \"Lax\"}]'\n",
    "headers = {\"x-api-source\":\"pc\",\"af-ac-enc-dat\":\"null\"}"
   ]
  },
  {
   "cell_type": "code",
   "execution_count": null,
   "id": "7362f2da-558a-4a2b-b271-05ff2bf6e606",
   "metadata": {},
   "outputs": [],
   "source": [
    "html_s = [\n",
    "    'Bộ Sưu Tập Rubik MoYu Macaron 2x2 3x3 4x4 5x5 Pyraminx Rubic Biến Thể Đồ Chơi Trí Tuệ Trẻ Em Phát Triển Tư Duy _ Shopee Việt Nam (1_5_2024 8_42_48 AM).html',\n",
    "    'Mô hình lắp ráp 12 con giáp _ Shopee Việt Nam (1_5_2024 8_41_07 AM).html',\n",
    "    'Set 55 Tấm Thẻ Ảnh Lomo Nhóm Nhạc BLACKPINK Born Pink Shut Down album jisoo _ Shopee Việt Nam (1_5_2024 8_42_07 AM).html',\n",
    "    'Vịt Đứng Đội Mũ Bảo Hiểm ,Vịt Gắn Xe ,Trang Trí Ô tô, Xe Máy , Xe Đạp _ Shopee Việt Nam (1_5_2024 10_04_48 AM).html',\n",
    "]\n",
    "for html in html_s:\n",
    "    contents = readfile(\n",
    "        file=os.path.join(loca_l, html),\n",
    "        mod=\"_r\"\n",
    "    )\n",
    "    htMl = BeautifulSoup(contents, 'html.parser')\n",
    "    ten_ = htMl.find('div', {\"class\": classinprod_ten})\n",
    "    ten = ten_.find('span').text\n",
    "    danhgia = htMl.find('div', {\"class\": classinprod_danhgia})\n",
    "    motadai_s = htMl.find_all('div', {\"class\": classinprod_motadai})\n",
    "    print(ten)\n",
    "    print(danhgia.text)\n",
    "    for so, motadai in enumerate(motadai_s):\n",
    "        print('**************************', so)\n",
    "        print(motadai.text)"
   ]
  },
  {
   "cell_type": "code",
   "execution_count": 3,
   "id": "c35665be-ed81-4fbb-bb49-69677e92b048",
   "metadata": {},
   "outputs": [
    {
     "name": "stdout",
     "output_type": "stream",
     "text": [
      "%%% Bài Uno Boardgame 108 Lá Cơ Bản Chất Giấy Dày Đồ Chơi Trẻ Em Trò Chơi Nhóm Bạn Xả Stress Giải Trí Phát Triển Tư Duy\n",
      "%%% Bộ thẻ học thông minh 16 chủ đề 416 thẻ song ngữ Anh Việt cho bé Glen Doman\n",
      "%%% LOMO Card BLACKPINK Set 55 Tấm Thẻ Ảnh BPTG World Tour Pink Venom Hình Nhóm Nhạc\n",
      "%%% Đồ Chơi Bếp Đứng, Bộ Đồ Chơi Nấu Ăn Nhà Bếp Có Đèn Thú Vị Cho Bé Trai Và Bé Gái 2 đến 8 tuổi\n",
      "%%% Đồ chơi lắp ráp Bearbrick gấu trúc mini mô hình gấu panda cho bé trẻ em thông minh Gon Gin\n",
      "%%% ĐỒ CHƠI POPIT ĐIỆN TỬ giải trí rèn luyện khả năng tập trung, phản xạ cho bé\n"
     ]
    }
   ],
   "source": [
    "looplv_1 = readfile(\n",
    "    file=looplv1,\n",
    "    mod=\"_r\",\n",
    "    jso=True\n",
    ")\n",
    "looplv_2 = readfile(\n",
    "    file=looplv2,\n",
    "    mod=\"_r\",\n",
    "    jso=True\n",
    ")\n",
    "for key in looplv_2.keys():\n",
    "    if key in looplv_1:\n",
    "        print('%%%', key)"
   ]
  },
  {
   "cell_type": "code",
   "execution_count": null,
   "id": "ff1a4ba9-4260-4669-8138-15d6ec43dfb8",
   "metadata": {},
   "outputs": [],
   "source": [
    "driver = chrooome(incog = not delcache)\n",
    "if delcache:\n",
    "    delete_cache(driver)\n",
    "driver.get(ad)"
   ]
  },
  {
   "cell_type": "code",
   "execution_count": null,
   "id": "675c648e-472b-45a8-9de2-cada66ffaf5c",
   "metadata": {},
   "outputs": [],
   "source": [
    "driver = firefox(incog = not delcache)\n",
    "if delcache:\n",
    "    delete_cache()\n",
    "driver.get(ad)"
   ]
  },
  {
   "cell_type": "code",
   "execution_count": null,
   "id": "a6641f36-604b-44c9-8505-58a314e25310",
   "metadata": {},
   "outputs": [],
   "source": [
    "samgiongzon = findelem(driver, \"//li[contains(@class, 'shopee-search-item')]\")\n",
    "print(len(samgiongzon))"
   ]
  },
  {
   "cell_type": "code",
   "execution_count": null,
   "id": "fe04534d-5007-4e6c-ac5e-3c9f0b8e540f",
   "metadata": {},
   "outputs": [],
   "source": [
    "import time\n",
    "from shopee_crawler import Crawler\n",
    "crawler = Crawler()\n",
    "crawler.set_origin(origin=\"shopee.vn\")\n",
    "keyword = 'điện thoại samsung'\n",
    "start = time.time()  # Start time\n",
    "data = crawler.crawl_by_search(keyword=keyword)  # Crawl\n",
    "end = time.time()  # End time\n",
    "print(\"Time : \", end - start, \"seconds\")  # Time crawling\n",
    "# https://pypi.org/project/shopee-crawler/"
   ]
  },
  {
   "cell_type": "code",
   "execution_count": null,
   "id": "65cfcaf8-3985-4147-ad8f-682b376ee324",
   "metadata": {},
   "outputs": [],
   "source": [
    "import requests\n",
    "from pprint import pprint\n",
    "\n",
    "url = \"https://mall.shopee.vn/api/v4/pdp/cart_panel/get\"\n",
    "data = {\n",
    "    \"item_id\": 20094318904,\n",
    "    \"shop_id\": 482205734,\n",
    "    \"quantity\": 1,\n",
    "}\n",
    "item_info = requests.post(\n",
    "    url=url,\n",
    "    json=data\n",
    ").json()\n",
    "\n",
    "pprint(item_info)"
   ]
  },
  {
   "cell_type": "code",
   "execution_count": null,
   "id": "0b19d5b4-ed0a-43f2-b3a0-4fc693a37b09",
   "metadata": {},
   "outputs": [],
   "source": [
    "import requests\n",
    "\n",
    "url = 'https://shopee.tw/api/v4/search_items/?by=pop&limit=30&match_id=1819984&newest=0&order=desc&page_type=shop&shop_categoryids=9271157&version=4'\n",
    "\n",
    "headers = {\n",
    "    'User-Agent': 'Mozilla/5.0 (X11; Linux x86_64; rv:73.0) Gecko/20100101 Firefox/73.0',\n",
    "    'X-Requested-With': 'XMLHttpRequest',\n",
    "    'Referer': 'https://shopee.tw/shop/1819984/search?shopCollection=9271157',\n",
    "}    \n",
    "\n",
    "r = requests.get(url, headers=headers)\n",
    "\n",
    "data = r.json()\n",
    "\n",
    "#print(data['items'][0].keys())\n",
    "\n",
    "for item in data['items']:\n",
    "    print('name:', item['name'])\n",
    "    print('prince:', item['price'])\n",
    "    print('sold:', item['historical_sold'])\n",
    "    print('---')"
   ]
  },
  {
   "cell_type": "code",
   "execution_count": null,
   "id": "cfdebcd1-b91e-4c03-a34b-5bbc3c5bf6a1",
   "metadata": {},
   "outputs": [],
   "source": [
    "name = \"test-spider\"\n",
    "allowed_domains = [\"shopee.ph\"]\n",
    "\n",
    "shopee_cookies = json.loads(shopee_cookies)\n",
    "\n",
    "def start_requests(self):\n",
    "    yield scrapy.Request(\n",
    "        \"https://shopee.ph/api/v4/pdp/get_pc?shop_id=237078553&item_id=6929743700\",\n",
    "        cookies=shopee_cookies,\n",
    "        headers=headers,\n",
    "        callback=parse_item,\n",
    "    )\n",
    "# https://stackoverflow.com/questions/76936341/shopee-api-to-get-products-data-doesnt-seem-to-work-anymore-it-worked-before"
   ]
  }
 ],
 "metadata": {
  "kernelspec": {
   "display_name": "Python 3 (ipykernel)",
   "language": "python",
   "name": "python3"
  },
  "language_info": {
   "codemirror_mode": {
    "name": "ipython",
    "version": 3
   },
   "file_extension": ".py",
   "mimetype": "text/x-python",
   "name": "python",
   "nbconvert_exporter": "python",
   "pygments_lexer": "ipython3",
   "version": "3.8.3"
  }
 },
 "nbformat": 4,
 "nbformat_minor": 5
}
