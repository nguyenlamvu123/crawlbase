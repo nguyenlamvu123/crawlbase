{
 "cells": [
  {
   "cell_type": "code",
   "execution_count": 1,
   "id": "e559b96b-ace1-42bb-af08-136d5185f1e8",
   "metadata": {},
   "outputs": [],
   "source": [
    "# !pip install -r requirements.txt\n",
    "from bs4 import BeautifulSoup\n",
    "from funct import firefox, chrooome, brow__ser, findelem, delete_cache, readfile, crawlfromhtml, gethtmlslist_bycategories, get_in4from_elem\n",
    "import time, threading, os \n",
    "import tkinter as tk\n",
    "\n",
    "from funct import (\n",
    "    # readfile, findelem, dangnhap, thich, spam, root, text_widget,\n",
    "    clickkk, print_on_gui, delete_cache, stopandkillthread, brow__ser, gethtmlslist_bycategories, crawlfromhtml, crawlfromhtml_,\n",
    "    gethtmlslist_bysearch, product_in_detail, product_in_detail_, chrooome,\n",
    ")\n",
    "from addr import tmdt_s, add_r, cra_html, loca_l\n",
    "delcache: bool = True \n",
    "shopee_cookies = '[{\"name\": \"csrftoken\", \"value\": \"RvxBdTixvBfdTR3xfQwbcYippqz8jEbF\", \"domain\": \"shopee.ph\", \"path\": \"/\", \"expires\": -1, \"httpOnly\": false, \"secure\": false, \"sameSite\": \"Lax\"}, {\"name\": \"_gcl_au\", \"value\": \"1.1.1251411089.1692464842\", \"domain\": \".shopee.ph\", \"path\": \"/\", \"expires\": 1700240842, \"httpOnly\": false, \"secure\": false, \"sameSite\": \"Lax\"}, {\"name\": \"SPC_SI\", \"value\": \"sTLbZAAAAABwY1ZrR1NNU+WdNgAAAAAAdzlCYXIyVVQ=\", \"domain\": \".shopee.ph\", \"path\": \"/\", \"expires\": 1692551246.336331, \"httpOnly\": true, \"secure\": true, \"sameSite\": \"Lax\"}, {\"name\": \"_fbp\", \"value\": \"fb.1.1692464842990.689078803\", \"domain\": \".shopee.ph\", \"path\": \"/\", \"expires\": 1700240846, \"httpOnly\": false, \"secure\": false, \"sameSite\": \"Lax\"}, {\"name\": \"SPC_R_T_IV\", \"value\": \"NnVEbThnRjREMnNMZVpGVQ==\", \"domain\": \".shopee.ph\", \"path\": \"/\", \"expires\": 1727024846.336348, \"httpOnly\": false, \"secure\": true, \"sameSite\": \"Lax\"}, {\"name\": \"SPC_T_ID\", \"value\": \"fn/OKngQO3doGdfFGyo/6mzLiviELHkKEbWM9J+x/ezTl/baT96grQer6ILrYX9tj3Kqs71Jg+hCimaK/XauidJXrd6HdPd2Smbxbu/fEStjOJi5g9/ucMmbBwuyh5M6H3TOGdpUop/9Q/zdpNj6MyxZaODnNsT5XprfsQxjB5g=\", \"domain\": \".shopee.ph\", \"path\": \"/\", \"expires\": 1727024846.336355, \"httpOnly\": true, \"secure\": true, \"sameSite\": \"Lax\"}, {\"name\": \"SPC_T_IV\", \"value\": \"NnVEbThnRjREMnNMZVpGVQ==\", \"domain\": \".shopee.ph\", \"path\": \"/\", \"expires\": 1727024846.336362, \"httpOnly\": true, \"secure\": true, \"sameSite\": \"Lax\"}, {\"name\": \"SPC_F\", \"value\": \"jiOtuCSNUaap3U4BHHfzhDihWwFht32f\", \"domain\": \".shopee.ph\", \"path\": \"/\", \"expires\": 1727024843.162052, \"httpOnly\": false, \"secure\": true, \"sameSite\": \"Lax\"}, {\"name\": \"REC_T_ID\", \"value\": \"dc8a2570-3eb2-11ee-ac9b-2cea7fce6c95\", \"domain\": \".shopee.ph\", \"path\": \"/\", \"expires\": 1727024843.16206, \"httpOnly\": true, \"secure\": true, \"sameSite\": \"Lax\"}, {\"name\": \"SPC_R_T_ID\", \"value\": \"fn/OKngQO3doGdfFGyo/6mzLiviELHkKEbWM9J+x/ezTl/baT96grQer6ILrYX9tj3Kqs71Jg+hCimaK/XauidJXrd6HdPd2Smbxbu/fEStjOJi5g9/ucMmbBwuyh5M6H3TOGdpUop/9Q/zdpNj6MyxZaODnNsT5XprfsQxjB5g=\", \"domain\": \".shopee.ph\", \"path\": \"/\", \"expires\": 1727024846.33634, \"httpOnly\": false, \"secure\": true, \"sameSite\": \"Lax\"}, {\"name\": \"_QPWSDCXHZQA\", \"value\": \"4a585493-a7a0-4f0e-d696-687295d3a4c3\", \"domain\": \"shopee.ph\", \"path\": \"/\", \"expires\": 1692496379, \"httpOnly\": false, \"secure\": false, \"sameSite\": \"Lax\"}, {\"name\": \"IDE\", \"value\": \"AHWqTUm1b5ZflCqDTn6cpHDjyoeqH6iLfXcCOOm4YNaP8CHTsAZ7F_Daq4-zO-bsGIk\", \"domain\": \".doubleclick.net\", \"path\": \"/\", \"expires\": 1727024843.787698, \"httpOnly\": true, \"secure\": true, \"sameSite\": \"None\"}, {\"name\": \"AMP_TOKEN\", \"value\": \"%24NOT_FOUND\", \"domain\": \".shopee.ph\", \"path\": \"/\", \"expires\": 1692468444, \"httpOnly\": false, \"secure\": false, \"sameSite\": \"Lax\"}, {\"name\": \"_ga\", \"value\": \"GA1.2.833255521.1692464843\", \"domain\": \".shopee.ph\", \"path\": \"/\", \"expires\": 1727024844.498551, \"httpOnly\": false, \"secure\": false, \"sameSite\": \"Lax\"}, {\"name\": \"_gid\", \"value\": \"GA1.2.1347861977.1692464844\", \"domain\": \".shopee.ph\", \"path\": \"/\", \"expires\": 1692551244, \"httpOnly\": false, \"secure\": false, \"sameSite\": \"Lax\"}, {\"name\": \"_dc_gtm_UA-61918643-6\", \"value\": \"1\", \"domain\": \".shopee.ph\", \"path\": \"/\", \"expires\": 1692464904, \"httpOnly\": false, \"secure\": false, \"sameSite\": \"Lax\"}, {\"name\": \"shopee_webUnique_ccd\", \"value\": \"raj%2F3ukNopIWTrFjVLQeGA%3D%3D%7C1%2BjiV3ga9OlzuAELTZtedUY5BlP1ZNVH5ybZJx2D4KNA9dGTvtFakjnNZvR64zKNG6yBDfEXdabTE%2FRKow%3D%3D%7CsWIQ7u7pR4F3BD7E%7C08%7C3\", \"domain\": \"shopee.ph\", \"path\": \"/\", \"expires\": 1692496381, \"httpOnly\": false, \"secure\": false, \"sameSite\": \"Lax\"}, {\"name\": \"ds\", \"value\": \"065598fda3b7cca4e5e241e446a075e9\", \"domain\": \"shopee.ph\", \"path\": \"/\", \"expires\": 1692496381, \"httpOnly\": false, \"secure\": false, \"sameSite\": \"Lax\"}, {\"name\": \"SPC_EC\", \"value\": \"RTJYa2Q5WEV4UDNnN3VGWr68rFv1FRJEeVkpwAzlu09WhtwSxFE1cZlwpQYRhhR56REixPuKfekz6oioE4EaDK12bvALil+QZ5B0EfG42psIFWNDe1moiErTZndyu1502KUlh5+OQoUWCvm1XkVY+2Iy7Jk5qyPI2J655JeZwv0=\", \"domain\": \".shopee.ph\", \"path\": \"/\", \"expires\": 1727024846.336291, \"httpOnly\": true, \"secure\": true, \"sameSite\": \"Lax\"}, {\"name\": \"SPC_ST\", \"value\": \".ek1DVmo5aGJjaVBxcklYU5o4/3v/8ndPeV2/fwtzWYUh1kWOopWvn7SFoQXWuS37Rs+J+Ym7U8OwOG73JbiFRWyOOo1GhKBgwhUeeWfE+q9XPDZXACC33t7qphoBu5hyWvR/G+WkpSUbIkmGPzprCIvhw7Qwyt8UFxk/4bA+47QQQUiDcPfHIq/sJqmVMEqH3Al6nCTDeEh/JCDLALRvNQ==\", \"domain\": \".shopee.ph\", \"path\": \"/\", \"expires\": 1727024846.336324, \"httpOnly\": true, \"secure\": true, \"sameSite\": \"Lax\"}, {\"name\": \"SPC_CLIENTID\", \"value\": \"amlPdHVDU05VYWFwgvlavxoisbqjmacw\", \"domain\": \".shopee.ph\", \"path\": \"/\", \"expires\": 1727024846.336374, \"httpOnly\": false, \"secure\": false, \"sameSite\": \"Lax\"}, {\"name\": \"_ga_CB0044GVTM\", \"value\": \"GS1.1.1692464843.1.0.1692464846.57.0.0\", \"domain\": \".shopee.ph\", \"path\": \"/\", \"expires\": 1727024846.367333, \"httpOnly\": false, \"secure\": false, \"sameSite\": \"Lax\"}]'\n",
    "headers = {\"x-api-source\":\"pc\",\"af-ac-enc-dat\":\"null\"}"
   ]
  },
  {
   "cell_type": "code",
   "execution_count": 2,
   "id": "ff1a4ba9-4260-4669-8138-15d6ec43dfb8",
   "metadata": {},
   "outputs": [
    {
     "name": "stdout",
     "output_type": "stream",
     "text": [
      "Mozilla/5.0 (Windows NT 10.0; Win64; x64) AppleWebKit/537.36 (KHTML, like Gecko) Chrome/116.0.0.0 Safari/537.36 Edg/116.0.1938.69\n"
     ]
    }
   ],
   "source": [
    "tmdt = 'alib'\n",
    "(\n",
    "    fol, ad, danhmuc_s, classsanpham, classthongtin, classten, classdanhgiadaban, datasqe_danhgia,\n",
    "    classdaban_, classdaban, classnoiban, classgiaban, classinprod_ten, classinprod_danhgia, classinprod_motadai\n",
    ") = add_r(tmdt)\n",
    "assert fol is not None\n",
    "driver = chrooome()\n",
    "driver.execute_script(\"window.open('');\")\n",
    "driver.switch_to.window(driver.window_handles[-1])\n",
    "driver.get(ad + danhmuc_s[0])"
   ]
  },
  {
   "cell_type": "code",
   "execution_count": 6,
   "id": "8938de0d-803c-4eb1-b24f-aae899f0ea4b",
   "metadata": {},
   "outputs": [],
   "source": [
    "clickkk(driver, '//span[@class=\"cv-category__viewmore\"]')  # ???\n",
    "a_cate = findelem(driver, '//div[@class=\"cv-category\"]', getall=True)\n",
    "link_s: tuple = tuple(get_in4from_elem(elem, 'href') for elem in a_cate)\n",
    "# html_s = [s for s in os.listdir(loca_l) if s.endswith('.html')]\n",
    "# html = html_s[2]\n",
    "# filename = os.path.join(loca_l, html)\n",
    "# contents = readfile(\n",
    "#     file=filename,\n",
    "#     mod=\"_r\"\n",
    "# )\n",
    "# htMl = BeautifulSoup(contents, 'html.parser')"
   ]
  },
  {
   "cell_type": "code",
   "execution_count": 5,
   "id": "c37c99ab-cc69-477d-991d-5110d12f40e8",
   "metadata": {},
   "outputs": [
    {
     "name": "stdout",
     "output_type": "stream",
     "text": [
      "1\n"
     ]
    }
   ],
   "source": [
    "print(len(link_s))"
   ]
  },
  {
   "cell_type": "code",
   "execution_count": null,
   "id": "265dad4a-9587-4e2d-83bf-8e004155b2d3",
   "metadata": {},
   "outputs": [],
   "source": [
    "ptags = dataspm.find_all('p')\n",
    "for ptag in ptags:\n",
    "    print(ptag.text)"
   ]
  },
  {
   "cell_type": "code",
   "execution_count": null,
   "id": "675c648e-472b-45a8-9de2-cada66ffaf5c",
   "metadata": {},
   "outputs": [],
   "source": [
    "driver = firefox(incog = not delcache)\n",
    "if delcache:\n",
    "    delete_cache()\n",
    "driver.get(ad)"
   ]
  }
 ],
 "metadata": {
  "kernelspec": {
   "display_name": "Python 3 (ipykernel)",
   "language": "python",
   "name": "python3"
  },
  "language_info": {
   "codemirror_mode": {
    "name": "ipython",
    "version": 3
   },
   "file_extension": ".py",
   "mimetype": "text/x-python",
   "name": "python",
   "nbconvert_exporter": "python",
   "pygments_lexer": "ipython3",
   "version": "3.8.18"
  }
 },
 "nbformat": 4,
 "nbformat_minor": 5
}
