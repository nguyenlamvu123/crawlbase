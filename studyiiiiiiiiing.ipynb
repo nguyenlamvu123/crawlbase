{
 "cells": [
  {
   "cell_type": "code",
   "execution_count": null,
   "id": "e559b96b-ace1-42bb-af08-136d5185f1e8",
   "metadata": {},
   "outputs": [],
   "source": [
    "# !pip install -r requirements.txt\n",
    "import os\n",
    "from funct import firefox, chrooome, brow__ser, findelem, delete_cache, readfile\n",
    "# from addr import (\n",
    "#     ad, em, pa, em_test, pa_test, lo, get_tok, to, fanpage,\n",
    "#     uidfile, contentfile, spam_done, get_in4, likl_ist,\n",
    "#     comment, like,\n",
    "# )\n",
    "delcache: bool = False\n",
    "shopee_cookies = '[{\"name\": \"csrftoken\", \"value\": \"RvxBdTixvBfdTR3xfQwbcYippqz8jEbF\", \"domain\": \"shopee.ph\", \"path\": \"/\", \"expires\": -1, \"httpOnly\": false, \"secure\": false, \"sameSite\": \"Lax\"}, {\"name\": \"_gcl_au\", \"value\": \"1.1.1251411089.1692464842\", \"domain\": \".shopee.ph\", \"path\": \"/\", \"expires\": 1700240842, \"httpOnly\": false, \"secure\": false, \"sameSite\": \"Lax\"}, {\"name\": \"SPC_SI\", \"value\": \"sTLbZAAAAABwY1ZrR1NNU+WdNgAAAAAAdzlCYXIyVVQ=\", \"domain\": \".shopee.ph\", \"path\": \"/\", \"expires\": 1692551246.336331, \"httpOnly\": true, \"secure\": true, \"sameSite\": \"Lax\"}, {\"name\": \"_fbp\", \"value\": \"fb.1.1692464842990.689078803\", \"domain\": \".shopee.ph\", \"path\": \"/\", \"expires\": 1700240846, \"httpOnly\": false, \"secure\": false, \"sameSite\": \"Lax\"}, {\"name\": \"SPC_R_T_IV\", \"value\": \"NnVEbThnRjREMnNMZVpGVQ==\", \"domain\": \".shopee.ph\", \"path\": \"/\", \"expires\": 1727024846.336348, \"httpOnly\": false, \"secure\": true, \"sameSite\": \"Lax\"}, {\"name\": \"SPC_T_ID\", \"value\": \"fn/OKngQO3doGdfFGyo/6mzLiviELHkKEbWM9J+x/ezTl/baT96grQer6ILrYX9tj3Kqs71Jg+hCimaK/XauidJXrd6HdPd2Smbxbu/fEStjOJi5g9/ucMmbBwuyh5M6H3TOGdpUop/9Q/zdpNj6MyxZaODnNsT5XprfsQxjB5g=\", \"domain\": \".shopee.ph\", \"path\": \"/\", \"expires\": 1727024846.336355, \"httpOnly\": true, \"secure\": true, \"sameSite\": \"Lax\"}, {\"name\": \"SPC_T_IV\", \"value\": \"NnVEbThnRjREMnNMZVpGVQ==\", \"domain\": \".shopee.ph\", \"path\": \"/\", \"expires\": 1727024846.336362, \"httpOnly\": true, \"secure\": true, \"sameSite\": \"Lax\"}, {\"name\": \"SPC_F\", \"value\": \"jiOtuCSNUaap3U4BHHfzhDihWwFht32f\", \"domain\": \".shopee.ph\", \"path\": \"/\", \"expires\": 1727024843.162052, \"httpOnly\": false, \"secure\": true, \"sameSite\": \"Lax\"}, {\"name\": \"REC_T_ID\", \"value\": \"dc8a2570-3eb2-11ee-ac9b-2cea7fce6c95\", \"domain\": \".shopee.ph\", \"path\": \"/\", \"expires\": 1727024843.16206, \"httpOnly\": true, \"secure\": true, \"sameSite\": \"Lax\"}, {\"name\": \"SPC_R_T_ID\", \"value\": \"fn/OKngQO3doGdfFGyo/6mzLiviELHkKEbWM9J+x/ezTl/baT96grQer6ILrYX9tj3Kqs71Jg+hCimaK/XauidJXrd6HdPd2Smbxbu/fEStjOJi5g9/ucMmbBwuyh5M6H3TOGdpUop/9Q/zdpNj6MyxZaODnNsT5XprfsQxjB5g=\", \"domain\": \".shopee.ph\", \"path\": \"/\", \"expires\": 1727024846.33634, \"httpOnly\": false, \"secure\": true, \"sameSite\": \"Lax\"}, {\"name\": \"_QPWSDCXHZQA\", \"value\": \"4a585493-a7a0-4f0e-d696-687295d3a4c3\", \"domain\": \"shopee.ph\", \"path\": \"/\", \"expires\": 1692496379, \"httpOnly\": false, \"secure\": false, \"sameSite\": \"Lax\"}, {\"name\": \"IDE\", \"value\": \"AHWqTUm1b5ZflCqDTn6cpHDjyoeqH6iLfXcCOOm4YNaP8CHTsAZ7F_Daq4-zO-bsGIk\", \"domain\": \".doubleclick.net\", \"path\": \"/\", \"expires\": 1727024843.787698, \"httpOnly\": true, \"secure\": true, \"sameSite\": \"None\"}, {\"name\": \"AMP_TOKEN\", \"value\": \"%24NOT_FOUND\", \"domain\": \".shopee.ph\", \"path\": \"/\", \"expires\": 1692468444, \"httpOnly\": false, \"secure\": false, \"sameSite\": \"Lax\"}, {\"name\": \"_ga\", \"value\": \"GA1.2.833255521.1692464843\", \"domain\": \".shopee.ph\", \"path\": \"/\", \"expires\": 1727024844.498551, \"httpOnly\": false, \"secure\": false, \"sameSite\": \"Lax\"}, {\"name\": \"_gid\", \"value\": \"GA1.2.1347861977.1692464844\", \"domain\": \".shopee.ph\", \"path\": \"/\", \"expires\": 1692551244, \"httpOnly\": false, \"secure\": false, \"sameSite\": \"Lax\"}, {\"name\": \"_dc_gtm_UA-61918643-6\", \"value\": \"1\", \"domain\": \".shopee.ph\", \"path\": \"/\", \"expires\": 1692464904, \"httpOnly\": false, \"secure\": false, \"sameSite\": \"Lax\"}, {\"name\": \"shopee_webUnique_ccd\", \"value\": \"raj%2F3ukNopIWTrFjVLQeGA%3D%3D%7C1%2BjiV3ga9OlzuAELTZtedUY5BlP1ZNVH5ybZJx2D4KNA9dGTvtFakjnNZvR64zKNG6yBDfEXdabTE%2FRKow%3D%3D%7CsWIQ7u7pR4F3BD7E%7C08%7C3\", \"domain\": \"shopee.ph\", \"path\": \"/\", \"expires\": 1692496381, \"httpOnly\": false, \"secure\": false, \"sameSite\": \"Lax\"}, {\"name\": \"ds\", \"value\": \"065598fda3b7cca4e5e241e446a075e9\", \"domain\": \"shopee.ph\", \"path\": \"/\", \"expires\": 1692496381, \"httpOnly\": false, \"secure\": false, \"sameSite\": \"Lax\"}, {\"name\": \"SPC_EC\", \"value\": \"RTJYa2Q5WEV4UDNnN3VGWr68rFv1FRJEeVkpwAzlu09WhtwSxFE1cZlwpQYRhhR56REixPuKfekz6oioE4EaDK12bvALil+QZ5B0EfG42psIFWNDe1moiErTZndyu1502KUlh5+OQoUWCvm1XkVY+2Iy7Jk5qyPI2J655JeZwv0=\", \"domain\": \".shopee.ph\", \"path\": \"/\", \"expires\": 1727024846.336291, \"httpOnly\": true, \"secure\": true, \"sameSite\": \"Lax\"}, {\"name\": \"SPC_ST\", \"value\": \".ek1DVmo5aGJjaVBxcklYU5o4/3v/8ndPeV2/fwtzWYUh1kWOopWvn7SFoQXWuS37Rs+J+Ym7U8OwOG73JbiFRWyOOo1GhKBgwhUeeWfE+q9XPDZXACC33t7qphoBu5hyWvR/G+WkpSUbIkmGPzprCIvhw7Qwyt8UFxk/4bA+47QQQUiDcPfHIq/sJqmVMEqH3Al6nCTDeEh/JCDLALRvNQ==\", \"domain\": \".shopee.ph\", \"path\": \"/\", \"expires\": 1727024846.336324, \"httpOnly\": true, \"secure\": true, \"sameSite\": \"Lax\"}, {\"name\": \"SPC_CLIENTID\", \"value\": \"amlPdHVDU05VYWFwgvlavxoisbqjmacw\", \"domain\": \".shopee.ph\", \"path\": \"/\", \"expires\": 1727024846.336374, \"httpOnly\": false, \"secure\": false, \"sameSite\": \"Lax\"}, {\"name\": \"_ga_CB0044GVTM\", \"value\": \"GS1.1.1692464843.1.0.1692464846.57.0.0\", \"domain\": \".shopee.ph\", \"path\": \"/\", \"expires\": 1727024846.367333, \"httpOnly\": false, \"secure\": false, \"sameSite\": \"Lax\"}]'\n",
    "headers = {\"x-api-source\":\"pc\",\"af-ac-enc-dat\":\"null\"}"
   ]
  },
  {
   "cell_type": "code",
   "execution_count": null,
   "id": "7362f2da-558a-4a2b-b271-05ff2bf6e606",
   "metadata": {},
   "outputs": [],
   "source": [
    "from bs4 import BeautifulSoup\n",
    "for html in [s for s in os.listdir(r'C:\\Users\\HLC\\Downloads') if s.startswith('Mua sắm online sản phẩm')]:\n",
    "    print(html)\n",
    "    contents = readfile(\n",
    "        file=os.path.join(r'C:\\Users\\HLC\\Downloads', html),\n",
    "        mod=\"_r\"\n",
    "    )\n",
    "    htMl = BeautifulSoup(contents, 'html.parser')\n",
    "    sanpham_s = htMl.find_all('li', {\"class\": lambda x: x and \"shopee-search\" in x})\n",
    "    for sanpham in sanpham_s:\n",
    "        link = sanpham.find('a', {\"href\": True});print(link.get(\"href\"))\n",
    "        img_s = link.find_all('img', {'src': True});print(\"len(img_s):\", len(img_s))\n",
    "        # for img in img_s:\n",
    "        #     print(img.get('src'))\n",
    "        thongtin_s = link.find_all('div', {\"class\": \"JxvxgB\"});print(\"len(thongtin_s):\", len(thongtin_s))\n",
    "        for thongtin in thongtin_s:\n",
    "            ten = thongtin.find('div', {\"class\": \"efwNRW\"});print('ten:', ten.text)\n",
    "            danhgia_daban = thongtin.find('div', {\"class\": \"DN6Jp1\"})\n",
    "            danhgia = danhgia_daban.find('div', {\"data-sqe\": \"rating\"})\n",
    "            daban = danhgia_daban.find('div', {\"class\": lambda x: x and \"OwmBnn\" in x});print(\"đã bán:\", daban.text)"
   ]
  },
  {
   "cell_type": "code",
   "execution_count": null,
   "id": "ff1a4ba9-4260-4669-8138-15d6ec43dfb8",
   "metadata": {},
   "outputs": [],
   "source": [
    "driver = chrooome(incog = not delcache)\n",
    "if delcache:\n",
    "    delete_cache(driver)\n",
    "driver.get(ad)"
   ]
  },
  {
   "cell_type": "code",
   "execution_count": null,
   "id": "675c648e-472b-45a8-9de2-cada66ffaf5c",
   "metadata": {},
   "outputs": [],
   "source": [
    "driver = firefox(incog = not delcache)\n",
    "if delcache:\n",
    "    delete_cache()\n",
    "driver.get(ad)"
   ]
  },
  {
   "cell_type": "code",
   "execution_count": null,
   "id": "a6641f36-604b-44c9-8505-58a314e25310",
   "metadata": {},
   "outputs": [],
   "source": [
    "samgiongzon = findelem(driver, \"//li[contains(@class, 'shopee-search-item')]\")\n",
    "print(len(samgiongzon))"
   ]
  },
  {
   "cell_type": "code",
   "execution_count": null,
   "id": "fe04534d-5007-4e6c-ac5e-3c9f0b8e540f",
   "metadata": {},
   "outputs": [],
   "source": [
    "import time\n",
    "from shopee_crawler import Crawler\n",
    "crawler = Crawler()\n",
    "crawler.set_origin(origin=\"shopee.vn\")\n",
    "keyword = 'điện thoại samsung'\n",
    "start = time.time()  # Start time\n",
    "data = crawler.crawl_by_search(keyword=keyword)  # Crawl\n",
    "end = time.time()  # End time\n",
    "print(\"Time : \", end - start, \"seconds\")  # Time crawling\n",
    "# https://pypi.org/project/shopee-crawler/"
   ]
  },
  {
   "cell_type": "code",
   "execution_count": null,
   "id": "65cfcaf8-3985-4147-ad8f-682b376ee324",
   "metadata": {},
   "outputs": [],
   "source": [
    "import requests\n",
    "from pprint import pprint\n",
    "\n",
    "url = \"https://mall.shopee.vn/api/v4/pdp/cart_panel/get\"\n",
    "data = {\n",
    "    \"item_id\": 20094318904,\n",
    "    \"shop_id\": 482205734,\n",
    "    \"quantity\": 1,\n",
    "}\n",
    "item_info = requests.post(\n",
    "    url=url,\n",
    "    json=data\n",
    ").json()\n",
    "\n",
    "pprint(item_info)"
   ]
  },
  {
   "cell_type": "code",
   "execution_count": null,
   "id": "0b19d5b4-ed0a-43f2-b3a0-4fc693a37b09",
   "metadata": {},
   "outputs": [],
   "source": [
    "import requests\n",
    "\n",
    "url = 'https://shopee.tw/api/v4/search_items/?by=pop&limit=30&match_id=1819984&newest=0&order=desc&page_type=shop&shop_categoryids=9271157&version=4'\n",
    "\n",
    "headers = {\n",
    "    'User-Agent': 'Mozilla/5.0 (X11; Linux x86_64; rv:73.0) Gecko/20100101 Firefox/73.0',\n",
    "    'X-Requested-With': 'XMLHttpRequest',\n",
    "    'Referer': 'https://shopee.tw/shop/1819984/search?shopCollection=9271157',\n",
    "}    \n",
    "\n",
    "r = requests.get(url, headers=headers)\n",
    "\n",
    "data = r.json()\n",
    "\n",
    "#print(data['items'][0].keys())\n",
    "\n",
    "for item in data['items']:\n",
    "    print('name:', item['name'])\n",
    "    print('prince:', item['price'])\n",
    "    print('sold:', item['historical_sold'])\n",
    "    print('---')"
   ]
  },
  {
   "cell_type": "code",
   "execution_count": null,
   "id": "cfdebcd1-b91e-4c03-a34b-5bbc3c5bf6a1",
   "metadata": {},
   "outputs": [],
   "source": [
    "name = \"test-spider\"\n",
    "allowed_domains = [\"shopee.ph\"]\n",
    "\n",
    "shopee_cookies = json.loads(shopee_cookies)\n",
    "\n",
    "def start_requests(self):\n",
    "    yield scrapy.Request(\n",
    "        \"https://shopee.ph/api/v4/pdp/get_pc?shop_id=237078553&item_id=6929743700\",\n",
    "        cookies=shopee_cookies,\n",
    "        headers=headers,\n",
    "        callback=parse_item,\n",
    "    )\n",
    "# https://stackoverflow.com/questions/76936341/shopee-api-to-get-products-data-doesnt-seem-to-work-anymore-it-worked-before"
   ]
  }
 ],
 "metadata": {
  "kernelspec": {
   "display_name": "Python 3 (ipykernel)",
   "language": "python",
   "name": "python3"
  },
  "language_info": {
   "codemirror_mode": {
    "name": "ipython",
    "version": 3
   },
   "file_extension": ".py",
   "mimetype": "text/x-python",
   "name": "python",
   "nbconvert_exporter": "python",
   "pygments_lexer": "ipython3",
   "version": "3.8.3"
  }
 },
 "nbformat": 4,
 "nbformat_minor": 5
}
